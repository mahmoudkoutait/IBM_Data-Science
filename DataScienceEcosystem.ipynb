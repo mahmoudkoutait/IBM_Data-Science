{
 "cells": [
  {
   "cell_type": "markdown",
   "id": "7031886d-a04b-44ce-8ed2-91ec033a925c",
   "metadata": {},
   "source": [
    "# Data Science Tools and Ecosystem"
   ]
  },
  {
   "cell_type": "markdown",
   "id": "9e7a1e76-560d-4300-9984-7813ff535f81",
   "metadata": {},
   "source": [
    "#### In this notebook, Data Science Tools and Ecosystem are summarized."
   ]
  },
  {
   "cell_type": "markdown",
   "id": "7bcef065-8504-499b-a7de-e7080a398f55",
   "metadata": {},
   "source": [
    "### **Objectives:**\n",
    "+ Some of the popular languages that Data Scientists use\n",
    "+ Some of the commonly used libraries used by Data Scientists\n",
    "+ Data Science Tools\n",
    "+ Author\n",
    " "
   ]
  },
  {
   "cell_type": "markdown",
   "id": "b97f8184-b84f-4d9f-9c0d-846b1432e6ae",
   "metadata": {
    "tags": []
   },
   "source": [
    "##### Some of the popular languages that Data Scientists use are:\n",
    "1. python\n",
    "2. SQL\n",
    "3. R\n",
    "4. Julia"
   ]
  },
  {
   "cell_type": "markdown",
   "id": "d7a8b8ad-fd02-4eb6-b5e8-917bcc92f227",
   "metadata": {
    "tags": []
   },
   "source": [
    "##### Some of the commonly used libraries used by Data Scientists include:\n",
    "1. Numpy\n",
    "2. Pandas\n",
    "3. Matplotlib\n",
    "4. Tensor Flow\n"
   ]
  },
  {
   "cell_type": "markdown",
   "id": "6e321fdc-7b2a-42c8-aa6d-816a73d21400",
   "metadata": {},
   "source": [
    "| Data Science Tools |\n",
    "| ------------------ |\n",
    "| Jupyter Notebook   |\n",
    "| R Studio           |\n",
    "| VS Code (with Python extension) |"
   ]
  },
  {
   "cell_type": "markdown",
   "id": "46d6ce2e-6166-405c-a547-e79eaa11f03a",
   "metadata": {},
   "source": [
    "### Below are a few examples of evaluating arithmetic expressions in Python.\n",
    "+ Addition\n",
    "+ Subtraction\n",
    "+ Multiblication\n",
    "+ Division"
   ]
  },
  {
   "cell_type": "code",
   "execution_count": 1,
   "id": "5e88fb8d-6f84-4119-9592-d1c19d743bce",
   "metadata": {
    "tags": []
   },
   "outputs": [
    {
     "data": {
      "text/plain": [
       "17"
      ]
     },
     "execution_count": 1,
     "metadata": {},
     "output_type": "execute_result"
    }
   ],
   "source": [
    "# This a simple arithmetic expression to mutiply then add integers.\n",
    "(3*4)+5"
   ]
  },
  {
   "cell_type": "code",
   "execution_count": 3,
   "id": "086cd68e-0a63-4216-8513-8f0a551ea306",
   "metadata": {
    "tags": []
   },
   "outputs": [
    {
     "data": {
      "text/plain": [
       "3"
      ]
     },
     "execution_count": 3,
     "metadata": {},
     "output_type": "execute_result"
    }
   ],
   "source": [
    "# This will convert 200 minutes to hours by diving by 60.\n",
    "200//60"
   ]
  },
  {
   "cell_type": "markdown",
   "id": "8b9247e7-3d45-45d7-87b4-52f5c12f190e",
   "metadata": {},
   "source": [
    "## Authour: Mahmoud Koutait\n",
    "ibm Data Science course"
   ]
  },
  {
   "cell_type": "code",
   "execution_count": null,
   "id": "642736c8-2b27-4e60-8852-3e9fd7c32dcd",
   "metadata": {},
   "outputs": [],
   "source": []
  }
 ],
 "metadata": {
  "kernelspec": {
   "display_name": "Python",
   "language": "python",
   "name": "conda-env-python-py"
  },
  "language_info": {
   "codemirror_mode": {
    "name": "ipython",
    "version": 3
   },
   "file_extension": ".py",
   "mimetype": "text/x-python",
   "name": "python",
   "nbconvert_exporter": "python",
   "pygments_lexer": "ipython3",
   "version": "3.7.12"
  }
 },
 "nbformat": 4,
 "nbformat_minor": 5
}
